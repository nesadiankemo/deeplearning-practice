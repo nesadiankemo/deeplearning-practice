{
 "cells": [
  {
   "cell_type": "code",
   "execution_count": 2,
   "metadata": {},
   "outputs": [],
   "source": [
    "import scipy.io\n",
    "import numpy as np\n",
    "import tensorflow as tf"
   ]
  },
  {
   "cell_type": "code",
   "execution_count": 21,
   "metadata": {},
   "outputs": [],
   "source": [
    "path = './pretrained-model/imagenet-vgg-verydeep-19'\n",
    "vgg = scipy.io.loadmat(path)"
   ]
  },
  {
   "cell_type": "code",
   "execution_count": 22,
   "metadata": {},
   "outputs": [
    {
     "name": "stdout",
     "output_type": "stream",
     "text": [
      "<class 'numpy.ndarray'>\n"
     ]
    }
   ],
   "source": [
    "vgg_layers = vgg['layers']\n",
    "print(type(vgg_layers))"
   ]
  },
  {
   "cell_type": "code",
   "execution_count": 23,
   "metadata": {},
   "outputs": [
    {
     "name": "stdout",
     "output_type": "stream",
     "text": [
      "__globals__: typeof <class 'list'>\n",
      "__version__: typeof <class 'str'>\n",
      "__header__: typeof <class 'bytes'>\n",
      "meta: typeof <class 'numpy.ndarray'>\n",
      "layers: typeof <class 'numpy.ndarray'>\n"
     ]
    }
   ],
   "source": [
    "for k, v in vgg.items():\n",
    "    print('' + k + ': typeof ' + str(type(v)))"
   ]
  },
  {
   "cell_type": "code",
   "execution_count": 46,
   "metadata": {},
   "outputs": [],
   "source": [
    "def _weights(layer, expected_layer_name):\n",
    "    \"\"\"\n",
    "    Return the weights and bias from the VGG model for a given layer.\n",
    "    \"\"\"\n",
    "    wb = vgg_layers[0][layer][0][0][2]\n",
    "    W = wb[0][0]\n",
    "    b = wb[0][1]\n",
    "    layer_name = vgg_layers[0][layer][0][0][0][0]\n",
    "    assert layer_name == expected_layer_name\n",
    "    return W, b"
   ]
  },
  {
   "cell_type": "code",
   "execution_count": 44,
   "metadata": {},
   "outputs": [
    {
     "name": "stdout",
     "output_type": "stream",
     "text": [
      "(3, 3, 64, 64)\n"
     ]
    }
   ],
   "source": [
    "print(vgg_layers[0][2][0][0][2][0][0].shape)"
   ]
  },
  {
   "cell_type": "code",
   "execution_count": 45,
   "metadata": {},
   "outputs": [],
   "source": [
    "def _relu(conv2d_layer):\n",
    "    \"\"\"\n",
    "    Return the RELU function wrapped over a TensorFlow layer.Expects a Conv2d layer input.\n",
    "    \"\"\"\n",
    "    return tf.nn.relu(conv2d_layer)"
   ]
  },
  {
   "cell_type": "code",
   "execution_count": 53,
   "metadata": {},
   "outputs": [],
   "source": [
    "def _conv2d(prev_layer, layer, layer_name):\n",
    "    \"\"\"\n",
    "    Return the Conv2D layer using the weights, biasses form the VGG model at 'layer'.\n",
    "    \"\"\"\n",
    "    W, b = _weights(layer, layer_name)\n",
    "    W = tf.constant(W)\n",
    "    b = tf.constant(np.reshape(b, (b.size)))\n",
    "    return tf.nn.conv2d(prev_layer, filter=W, strides=[1, 1, 1, 1], padding=\"SAME\") + b"
   ]
  },
  {
   "cell_type": "code",
   "execution_count": 48,
   "metadata": {},
   "outputs": [],
   "source": [
    "def _conv2d_relu(prev_layer, layer, layer_name):\n",
    "    \"\"\"\n",
    "    Return the Conv2D + RELU layer using the weights, biases for the VGG mode at 'layer'.\n",
    "    \"\"\"\n",
    "    return _relu(_conv2d(prev_layer, layer, layer_name))"
   ]
  },
  {
   "cell_type": "code",
   "execution_count": 49,
   "metadata": {},
   "outputs": [],
   "source": [
    "def _avgpool(prev_layer):\n",
    "    \"\"\"\n",
    "    Return the AveragePooling layer.\n",
    "    \"\"\"\n",
    "    return tf.nn.avg_pool(prev_layer, ksize=[1, 2, 2, 1], strides=[1, 2, 2, 1], padding=\"SAME\")"
   ]
  },
  {
   "cell_type": "code",
   "execution_count": 51,
   "metadata": {},
   "outputs": [
    {
     "name": "stdout",
     "output_type": "stream",
     "text": [
      "(3, 3, 3, 64) (64, 1)\n"
     ]
    }
   ],
   "source": [
    "W, b = _weights(0, 'conv1_1')\n",
    "print(W.shape, b.shape)"
   ]
  },
  {
   "cell_type": "code",
   "execution_count": 72,
   "metadata": {},
   "outputs": [],
   "source": [
    "IMAGE_HEIGHT = 224\n",
    "IMAGE_WIDTH = 224\n",
    "COLOR_CHANNELS = 3\n",
    "graph = {}\n",
    "graph['input'] = tf.Variable(np.zeros((1, IMAGE_HEIGHT, IMAGE_WIDTH, COLOR_CHANNELS)), dtype='float32')\n",
    "graph['conv1_1'] = _conv2d_relu(graph['input'], 0, 'conv1_1')\n",
    "graph['conv1_2'] = _conv2d_relu(graph['conv1_1'], 2, 'conv1_2')\n",
    "graph['avgpool1'] = _avgpool(graph['conv1_2'])\n",
    "graph['conv2_1'] = _conv2d_relu(graph['avgpool1'], 5, 'conv2_1')\n",
    "graph['conv2_2'] = _conv2d_relu(graph['conv2_1'], 7, 'conv2_2')\n",
    "graph['avgpool2'] = _avgpool(graph['conv2_2'])\n",
    "graph['conv3_1'] = _conv2d_relu(graph['avgpool2'], 10, 'conv3_1')\n",
    "graph['conv3_2'] = _conv2d_relu(graph['conv3_1'], 12, 'conv3_2')\n",
    "graph['conv3_3'] = _conv2d_relu(graph['conv3_2'], 14, 'conv3_3')\n",
    "graph['conv3_4'] = _conv2d_relu(graph['conv3_3'], 16, 'conv3_4')\n",
    "graph['avgpool3'] = _avgpool(graph['conv3_4'])\n",
    "graph['conv4_1'] = _conv2d_relu(graph['avgpool3'], 19, 'conv4_1')\n",
    "graph['conv4_2'] = _conv2d_relu(graph['conv4_1'], 21, 'conv4_2')\n",
    "graph['conv4_3'] = _conv2d_relu(graph['conv4_2'], 23, 'conv4_3')\n",
    "graph['conv4_4'] = _conv2d_relu(graph['conv4_3'], 25, 'conv4_4')\n",
    "graph['avgpool4'] = _avgpool(graph['conv4_4'])\n",
    "graph['conv5_1'] = _conv2d_relu(graph['avgpool4'], 28, 'conv5_1')\n",
    "graph['conv5_2'] = _conv2d_relu(graph['conv5_1'], 30, 'conv5_2')\n",
    "graph['conv5_3'] = _conv2d_relu(graph['conv5_2'], 32, 'conv5_3')\n",
    "graph['conv5_4'] = _conv2d_relu(graph['conv5_3'], 34, 'conv5_4')\n",
    "graph['avgpool5'] = _avgpool(graph['conv5_4'])"
   ]
  },
  {
   "cell_type": "code",
   "execution_count": 73,
   "metadata": {},
   "outputs": [],
   "source": [
    "X = np.random.randn(1,224, 224, 3)"
   ]
  },
  {
   "cell_type": "code",
   "execution_count": 74,
   "metadata": {},
   "outputs": [
    {
     "data": {
      "text/plain": [
       "array([[[[ 0.39586627,  0.32448643,  0.9682584 ],\n",
       "         [-0.42135197,  0.41118634,  0.0566809 ],\n",
       "         [-0.1585692 , -1.2399156 ,  0.8725272 ],\n",
       "         ...,\n",
       "         [-1.3958759 ,  0.21274479, -3.0234625 ],\n",
       "         [ 0.040133  , -1.5444252 ,  1.7151695 ],\n",
       "         [-1.2164184 ,  0.35504553,  0.29384074]],\n",
       "\n",
       "        [[-1.1439891 , -0.78632164,  1.7115105 ],\n",
       "         [-0.97932094,  0.60873646, -0.5376923 ],\n",
       "         [ 1.226451  ,  0.62510103,  0.13320167],\n",
       "         ...,\n",
       "         [-0.2558284 ,  0.8923493 , -1.389393  ],\n",
       "         [ 0.03900012,  0.94842654,  0.975845  ],\n",
       "         [ 0.97465694, -0.52570814, -0.04283566]],\n",
       "\n",
       "        [[ 0.2268357 , -0.6347494 , -0.99195266],\n",
       "         [ 0.1217519 ,  0.32183754, -0.54372495],\n",
       "         [-0.44944593,  1.1058152 ,  1.0544038 ],\n",
       "         ...,\n",
       "         [ 0.7014382 ,  0.15918328, -0.38169593],\n",
       "         [-0.73543835, -0.9335977 , -1.8758583 ],\n",
       "         [ 0.80849713,  0.7221604 , -0.94129765]],\n",
       "\n",
       "        ...,\n",
       "\n",
       "        [[-1.1015191 , -1.2573376 , -0.54891413],\n",
       "         [-0.39537662,  2.0187025 ,  1.3476605 ],\n",
       "         [ 1.920446  ,  0.20122643,  0.92623234],\n",
       "         ...,\n",
       "         [-0.8848463 , -0.3390667 ,  0.6897448 ],\n",
       "         [ 0.4892119 , -2.2787318 , -0.11225091],\n",
       "         [ 0.7738815 , -1.4260095 , -1.6618372 ]],\n",
       "\n",
       "        [[ 0.23068224, -1.5761771 ,  1.2878546 ],\n",
       "         [ 0.12704566,  0.94203043,  1.9877405 ],\n",
       "         [-0.5776828 , -0.4258256 , -0.592001  ],\n",
       "         ...,\n",
       "         [-0.3409174 ,  0.61229175,  0.06950455],\n",
       "         [-1.6896192 , -0.5636803 ,  1.6368291 ],\n",
       "         [-0.45211908,  2.4051027 , -0.4622712 ]],\n",
       "\n",
       "        [[ 0.15734798,  0.5889765 , -1.2744473 ],\n",
       "         [-1.1228606 , -1.6731172 , -1.5561126 ],\n",
       "         [-1.1398536 ,  0.52396125,  0.63337183],\n",
       "         ...,\n",
       "         [-2.1969688 ,  0.8115431 , -1.5068353 ],\n",
       "         [ 0.7054414 ,  0.46549383,  0.95884985],\n",
       "         [-1.6215225 , -0.7592244 , -0.8212192 ]]]], dtype=float32)"
      ]
     },
     "execution_count": 74,
     "metadata": {},
     "output_type": "execute_result"
    }
   ],
   "source": [
    "\n",
    "sess = tf.Session()\n",
    "sess.run(graph['input'].assign(X))"
   ]
  },
  {
   "cell_type": "code",
   "execution_count": 75,
   "metadata": {},
   "outputs": [],
   "source": [
    "\n",
    "out = graph['conv4_1']\n",
    "a_C = sess.run(out)"
   ]
  },
  {
   "cell_type": "code",
   "execution_count": 76,
   "metadata": {},
   "outputs": [
    {
     "name": "stdout",
     "output_type": "stream",
     "text": [
      "(1, 28, 28, 512)\n"
     ]
    }
   ],
   "source": [
    "print(a_C.shape)"
   ]
  },
  {
   "cell_type": "code",
   "execution_count": 77,
   "metadata": {},
   "outputs": [],
   "source": [
    "sess.close()"
   ]
  },
  {
   "cell_type": "code",
   "execution_count": null,
   "metadata": {},
   "outputs": [],
   "source": []
  }
 ],
 "metadata": {
  "kernelspec": {
   "display_name": "Python 3",
   "language": "python",
   "name": "python3"
  },
  "language_info": {
   "codemirror_mode": {
    "name": "ipython",
    "version": 3
   },
   "file_extension": ".py",
   "mimetype": "text/x-python",
   "name": "python",
   "nbconvert_exporter": "python",
   "pygments_lexer": "ipython3",
   "version": "3.5.4"
  }
 },
 "nbformat": 4,
 "nbformat_minor": 2
}
