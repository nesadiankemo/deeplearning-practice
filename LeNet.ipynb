{
 "cells": [
  {
   "cell_type": "code",
   "execution_count": 1,
   "metadata": {},
   "outputs": [],
   "source": [
    "import numpy as np\n",
    "import tensorflow as tf\n",
    "import tensorflow.examples.tutorials.mnist.input_data as input_data"
   ]
  },
  {
   "cell_type": "code",
   "execution_count": 2,
   "metadata": {},
   "outputs": [
    {
     "name": "stdout",
     "output_type": "stream",
     "text": [
      "WARNING:tensorflow:From <ipython-input-2-9756bc0bc024>:1: read_data_sets (from tensorflow.contrib.learn.python.learn.datasets.mnist) is deprecated and will be removed in a future version.\n",
      "Instructions for updating:\n",
      "Please use alternatives such as official/mnist/dataset.py from tensorflow/models.\n",
      "WARNING:tensorflow:From c:\\users\\wsh-03\\appdata\\local\\programs\\python\\python35\\lib\\site-packages\\tensorflow\\contrib\\learn\\python\\learn\\datasets\\mnist.py:260: maybe_download (from tensorflow.contrib.learn.python.learn.datasets.base) is deprecated and will be removed in a future version.\n",
      "Instructions for updating:\n",
      "Please write your own downloading logic.\n",
      "WARNING:tensorflow:From c:\\users\\wsh-03\\appdata\\local\\programs\\python\\python35\\lib\\site-packages\\tensorflow\\contrib\\learn\\python\\learn\\datasets\\mnist.py:262: extract_images (from tensorflow.contrib.learn.python.learn.datasets.mnist) is deprecated and will be removed in a future version.\n",
      "Instructions for updating:\n",
      "Please use tf.data to implement this functionality.\n",
      "Extracting MNIST_data\\train-images-idx3-ubyte.gz\n",
      "WARNING:tensorflow:From c:\\users\\wsh-03\\appdata\\local\\programs\\python\\python35\\lib\\site-packages\\tensorflow\\contrib\\learn\\python\\learn\\datasets\\mnist.py:267: extract_labels (from tensorflow.contrib.learn.python.learn.datasets.mnist) is deprecated and will be removed in a future version.\n",
      "Instructions for updating:\n",
      "Please use tf.data to implement this functionality.\n",
      "Extracting MNIST_data\\train-labels-idx1-ubyte.gz\n",
      "WARNING:tensorflow:From c:\\users\\wsh-03\\appdata\\local\\programs\\python\\python35\\lib\\site-packages\\tensorflow\\contrib\\learn\\python\\learn\\datasets\\mnist.py:110: dense_to_one_hot (from tensorflow.contrib.learn.python.learn.datasets.mnist) is deprecated and will be removed in a future version.\n",
      "Instructions for updating:\n",
      "Please use tf.one_hot on tensors.\n",
      "Extracting MNIST_data\\t10k-images-idx3-ubyte.gz\n",
      "Extracting MNIST_data\\t10k-labels-idx1-ubyte.gz\n",
      "WARNING:tensorflow:From c:\\users\\wsh-03\\appdata\\local\\programs\\python\\python35\\lib\\site-packages\\tensorflow\\contrib\\learn\\python\\learn\\datasets\\mnist.py:290: DataSet.__init__ (from tensorflow.contrib.learn.python.learn.datasets.mnist) is deprecated and will be removed in a future version.\n",
      "Instructions for updating:\n",
      "Please use alternatives such as official/mnist/dataset.py from tensorflow/models.\n"
     ]
    }
   ],
   "source": [
    "minst = input_data.read_data_sets('MNIST_data', one_hot=True)"
   ]
  },
  {
   "cell_type": "code",
   "execution_count": 3,
   "metadata": {},
   "outputs": [],
   "source": [
    "import matplotlib.pyplot as plt\n",
    "%matplotlib inline"
   ]
  },
  {
   "cell_type": "code",
   "execution_count": 46,
   "metadata": {},
   "outputs": [
    {
     "data": {
      "text/plain": [
       "<matplotlib.image.AxesImage at 0x54d8f98>"
      ]
     },
     "execution_count": 46,
     "metadata": {},
     "output_type": "execute_result"
    },
    {
     "data": {
      "image/png": "[encoded data removed]",
      "text/plain": [
       "<Figure size 432x288 with 1 Axes>"
      ]
     },
     "metadata": {
      "needs_background": "light"
     },
     "output_type": "display_data"
    }
   ],
   "source": [
    "img = np.reshape(minst.train.images[29], [28, 28])\n",
    "plt.imshow(img, cmap='gray')"
   ]
  },
  {
   "cell_type": "code",
   "execution_count": 5,
   "metadata": {},
   "outputs": [],
   "source": [
    "from scipy.misc import imresize"
   ]
  },
  {
   "cell_type": "code",
   "execution_count": 50,
   "metadata": {},
   "outputs": [
    {
     "name": "stderr",
     "output_type": "stream",
     "text": [
      "c:\\users\\wsh-03\\appdata\\local\\programs\\python\\python35\\lib\\site-packages\\ipykernel_launcher.py:1: DeprecationWarning: `imresize` is deprecated!\n",
      "`imresize` is deprecated in SciPy 1.0.0, and will be removed in 1.2.0.\n",
      "Use ``skimage.transform.resize`` instead.\n",
      "  \"\"\"Entry point for launching an IPython kernel.\n"
     ]
    },
    {
     "data": {
      "text/plain": [
       "<matplotlib.image.AxesImage at 0x1a9994a8>"
      ]
     },
     "execution_count": 50,
     "metadata": {},
     "output_type": "execute_result"
    },
    {
     "data": {
      "image/png": "[encoded data removed]",
      "text/plain": [
       "<Figure size 432x288 with 1 Axes>"
      ]
     },
     "metadata": {
      "needs_background": "light"
     },
     "output_type": "display_data"
    }
   ],
   "source": [
    "img32 = imresize(img, size=(32, 32), interp='bilinear')\n",
    "plt.imshow(img32, cmap='gray')"
   ]
  },
  {
   "cell_type": "code",
   "execution_count": 7,
   "metadata": {},
   "outputs": [
    {
     "name": "stderr",
     "output_type": "stream",
     "text": [
      "c:\\users\\wsh-03\\appdata\\local\\programs\\python\\python35\\lib\\site-packages\\ipykernel_launcher.py:5: DeprecationWarning: `imresize` is deprecated!\n",
      "`imresize` is deprecated in SciPy 1.0.0, and will be removed in 1.2.0.\n",
      "Use ``skimage.transform.resize`` instead.\n",
      "  \"\"\"\n",
      "c:\\users\\wsh-03\\appdata\\local\\programs\\python\\python35\\lib\\site-packages\\ipykernel_launcher.py:10: DeprecationWarning: `imresize` is deprecated!\n",
      "`imresize` is deprecated in SciPy 1.0.0, and will be removed in 1.2.0.\n",
      "Use ``skimage.transform.resize`` instead.\n",
      "  # Remove the CWD from sys.path while we load stuff.\n"
     ]
    }
   ],
   "source": [
    "X_trains = np.zeros((minst.train.images.shape[0], 32, 32, 1))\n",
    "Y_trains = minst.train.labels\n",
    "for i in range(X_trains.shape[0]):\n",
    "    img = np.reshape(minst.train.images[i], [28, 28])\n",
    "    X_trains[i][:, :, 0] = imresize(img, size=(32, 32), interp='bilinear')\n",
    "    \n",
    "X_test = np.zeros((minst.test.images.shape[0], 32, 32, 1))\n",
    "for i in range(X_test.shape[0]):\n",
    "    img = np.reshape(minst.test.images[i], [28, 28])\n",
    "    X_test[i][:, :, 0] = imresize(img, size=(32, 32), interp='bilinear')\n",
    "Y_test = minst.test.labels"
   ]
  },
  {
   "cell_type": "code",
   "execution_count": 8,
   "metadata": {},
   "outputs": [],
   "source": [
    "tf.reset_default_graph()\n",
    "X = tf.placeholder(tf.float32, [None, 32, 32, 1], name=\"X\")\n",
    "Y = tf.placeholder(tf.float32, [None, 10], name='Y')"
   ]
  },
  {
   "cell_type": "code",
   "execution_count": 9,
   "metadata": {},
   "outputs": [],
   "source": [
    "#conv1\n",
    "def _conv2d(prev_layer, shape, strides, padding):\n",
    "    initial = tf.truncated_normal(shape, stddev=0.1)\n",
    "    W = tf.Variable(initial)\n",
    "    b = tf.Variable(np.zeros(shape[-1]) + 0.1, dtype=tf.float32)\n",
    "    return tf.nn.conv2d(prev_layer, W, strides=strides, padding=padding)\n",
    "def _conv2d_relu(prev_layer, shape, strides, padding):\n",
    "    return tf.nn.tanh(_conv2d(prev_layer, shape, strides, padding))\n",
    "def _avgpool(prev_layer):\n",
    "    return tf.nn.max_pool(prev_layer, ksize=[1, 2, 2, 1], strides=[1, 2, 2, 1], padding=\"SAME\")\n",
    "def _flatten(prev_layer, shape):\n",
    "    return tf.reshape(prev_layer, prev_layer.shape)\n",
    "def _fully_connect(prev_layer, outsize):\n",
    "    initial = tf.truncated_normal([prev_layer.shape[-1], outsize], stddev=0.1)\n",
    "    W = tf.Variable(initial)\n",
    "    b = tf.Variable(np.zeros(outsize), dtype=tf.float32)\n",
    "    return tf.matmul(prev_layer, W) + b"
   ]
  },
  {
   "cell_type": "code",
   "execution_count": 10,
   "metadata": {},
   "outputs": [],
   "source": [
    "conv1 = _conv2d_relu(X, [5, 5, 1, 6], strides=[1, 1, 1, 1], padding=\"VALID\")"
   ]
  },
  {
   "cell_type": "code",
   "execution_count": 11,
   "metadata": {},
   "outputs": [],
   "source": [
    "# x = np.random.randn(1, 32, 32, 1)\n",
    "# sess = tf.Session()\n",
    "# init = tf.global_variables_initializer()\n",
    "# sess.run(init)\n",
    "# out = sess.run(conv1, feed_dict={X:x})\n",
    "# print(out.shape)"
   ]
  },
  {
   "cell_type": "code",
   "execution_count": 12,
   "metadata": {},
   "outputs": [],
   "source": [
    "avgpool1 = _avgpool(conv1)"
   ]
  },
  {
   "cell_type": "code",
   "execution_count": 13,
   "metadata": {},
   "outputs": [],
   "source": [
    "conv2 = _conv2d_relu(avgpool1, [5, 5, 6, 16], strides=[1, 1, 1, 1], padding='VALID')"
   ]
  },
  {
   "cell_type": "code",
   "execution_count": 14,
   "metadata": {},
   "outputs": [],
   "source": [
    "avgpool2 = _avgpool(conv2)"
   ]
  },
  {
   "cell_type": "code",
   "execution_count": 15,
   "metadata": {},
   "outputs": [],
   "source": [
    "avgpool2_flat = tf.reshape(avgpool2, [-1, 5*5*16])"
   ]
  },
  {
   "cell_type": "code",
   "execution_count": 16,
   "metadata": {},
   "outputs": [],
   "source": [
    "initial = tf.truncated_normal([400, 120], stddev=0.1)\n",
    "W_fc1 = tf.Variable(initial)\n",
    "b_fc1 = tf.Variable(np.zeros(120), dtype='float32')\n",
    "fc1 = tf.nn.relu(tf.matmul(avgpool2_flat, W_fc1) + b_fc1)"
   ]
  },
  {
   "cell_type": "code",
   "execution_count": 17,
   "metadata": {},
   "outputs": [],
   "source": [
    "initial = tf.truncated_normal([120, 84], stddev=0.1)\n",
    "W_fc2 = tf.Variable(initial)\n",
    "b_fc2 = tf.Variable(np.zeros(84), dtype='float32')\n",
    "fc2 = tf.nn.relu(tf.matmul(fc1, W_fc2) + b_fc2)"
   ]
  },
  {
   "cell_type": "code",
   "execution_count": 18,
   "metadata": {},
   "outputs": [],
   "source": [
    "initial = tf.truncated_normal([84, 10], stddev=0.1)\n",
    "W_fc3 = tf.Variable(initial)\n",
    "b_fc3 = tf.Variable(np.zeros(10), dtype='float32')\n",
    "y_conv = tf.nn.softmax(tf.matmul(fc2, W_fc3) + b_fc3)"
   ]
  },
  {
   "cell_type": "code",
   "execution_count": 19,
   "metadata": {},
   "outputs": [],
   "source": [
    "# sess.close()\n",
    "# sess = tf.Session()\n",
    "# init = tf.global_variables_initializer()\n",
    "# sess.run(init)\n",
    "# out = sess.run(y_conv, feed_dict={X:x})\n",
    "# print(out)"
   ]
  },
  {
   "cell_type": "code",
   "execution_count": 20,
   "metadata": {},
   "outputs": [],
   "source": [
    "cross_entropy = -tf.reduce_sum(Y * tf.log(y_conv))\n",
    "train_step = tf.train.AdamOptimizer(1e-4).minimize(cross_entropy)\n",
    "correct_predection = tf.equal(tf.argmax(y_conv, 1), tf.argmax(Y, 1))\n",
    "accuracy = tf.reduce_mean(tf.cast(correct_predection, 'float'))"
   ]
  },
  {
   "cell_type": "code",
   "execution_count": 21,
   "metadata": {
    "scrolled": true
   },
   "outputs": [
    {
     "name": "stdout",
     "output_type": "stream",
     "text": [
      "step 0, training accuracy 0.1\n",
      "step 100, training accuracy 0.6\n",
      "step 200, training accuracy 0.86\n",
      "step 300, training accuracy 0.72\n",
      "step 400, training accuracy 0.92\n",
      "step 500, training accuracy 0.88\n",
      "step 600, training accuracy 0.98\n",
      "step 700, training accuracy 0.96\n",
      "step 800, training accuracy 0.78\n",
      "step 900, training accuracy 0.94\n",
      "step 1000, training accuracy 0.88\n",
      "step 1100, training accuracy 0.92\n",
      "step 1200, training accuracy 0.94\n",
      "step 1300, training accuracy 0.96\n",
      "step 1400, training accuracy 0.92\n",
      "step 1500, training accuracy 0.98\n",
      "step 1600, training accuracy 0.96\n",
      "step 1700, training accuracy 0.98\n",
      "step 1800, training accuracy 0.98\n",
      "step 1900, training accuracy 0.88\n",
      "step 2000, training accuracy 1\n",
      "step 2100, training accuracy 0.96\n",
      "step 2200, training accuracy 0.94\n",
      "step 2300, training accuracy 0.96\n",
      "step 2400, training accuracy 0.98\n",
      "step 2500, training accuracy 0.92\n",
      "step 2600, training accuracy 1\n",
      "step 2700, training accuracy 0.96\n",
      "step 2800, training accuracy 1\n",
      "step 2900, training accuracy 0.98\n",
      "step 3000, training accuracy 0.88\n",
      "step 3100, training accuracy 1\n",
      "step 3200, training accuracy 0.98\n",
      "step 3300, training accuracy 0.98\n",
      "step 3400, training accuracy 0.96\n",
      "step 3500, training accuracy 1\n",
      "step 3600, training accuracy 0.96\n",
      "step 3700, training accuracy 0.98\n",
      "step 3800, training accuracy 0.96\n",
      "step 3900, training accuracy 1\n",
      "step 4000, training accuracy 0.98\n",
      "step 4100, training accuracy 0.92\n",
      "step 4200, training accuracy 1\n",
      "step 4300, training accuracy 1\n",
      "step 4400, training accuracy 0.98\n",
      "step 4500, training accuracy 0.96\n",
      "step 4600, training accuracy 1\n",
      "step 4700, training accuracy 0.96\n",
      "step 4800, training accuracy 1\n",
      "step 4900, training accuracy 0.96\n",
      "step 5000, training accuracy 1\n",
      "step 5100, training accuracy 0.98\n",
      "step 5200, training accuracy 0.9\n",
      "step 5300, training accuracy 1\n",
      "step 5400, training accuracy 1\n",
      "step 5500, training accuracy 1\n",
      "step 5600, training accuracy 0.98\n",
      "step 5700, training accuracy 1\n",
      "step 5800, training accuracy 0.96\n",
      "step 5900, training accuracy 1\n",
      "step 6000, training accuracy 0.98\n",
      "step 6100, training accuracy 1\n",
      "step 6200, training accuracy 0.98\n",
      "step 6300, training accuracy 0.92\n",
      "step 6400, training accuracy 1\n",
      "step 6500, training accuracy 1\n",
      "step 6600, training accuracy 1\n",
      "step 6700, training accuracy 1\n",
      "step 6800, training accuracy 1\n",
      "step 6900, training accuracy 0.96\n",
      "step 7000, training accuracy 1\n",
      "step 7100, training accuracy 0.98\n",
      "step 7200, training accuracy 1\n",
      "step 7300, training accuracy 0.98\n",
      "step 7400, training accuracy 0.9\n",
      "step 7500, training accuracy 0.98\n",
      "step 7600, training accuracy 1\n",
      "step 7700, training accuracy 1\n",
      "step 7800, training accuracy 1\n",
      "step 7900, training accuracy 1\n",
      "step 8000, training accuracy 0.96\n",
      "step 8100, training accuracy 1\n",
      "step 8200, training accuracy 0.98\n",
      "step 8300, training accuracy 1\n",
      "step 8400, training accuracy 0.98\n",
      "step 8500, training accuracy 0.92\n",
      "step 8600, training accuracy 1\n",
      "step 8700, training accuracy 1\n",
      "step 8800, training accuracy 0.98\n",
      "step 8900, training accuracy 1\n",
      "step 9000, training accuracy 1\n",
      "step 9100, training accuracy 0.98\n",
      "step 9200, training accuracy 1\n",
      "step 9300, training accuracy 0.98\n",
      "step 9400, training accuracy 1\n",
      "step 9500, training accuracy 0.98\n",
      "step 9600, training accuracy 0.92\n",
      "step 9700, training accuracy 1\n",
      "step 9800, training accuracy 1\n",
      "step 9900, training accuracy 1\n",
      "step 10000, training accuracy 1\n",
      "step 10100, training accuracy 1\n",
      "step 10200, training accuracy 0.98\n",
      "step 10300, training accuracy 1\n",
      "step 10400, training accuracy 0.98\n",
      "step 10500, training accuracy 1\n",
      "step 10600, training accuracy 0.98\n",
      "step 10700, training accuracy 0.94\n",
      "step 10800, training accuracy 1\n",
      "step 10900, training accuracy 1\n",
      "step 11000, training accuracy 1\n",
      "step 11100, training accuracy 1\n",
      "step 11200, training accuracy 1\n",
      "step 11300, training accuracy 0.98\n",
      "step 11400, training accuracy 1\n",
      "step 11500, training accuracy 0.98\n",
      "step 11600, training accuracy 1\n",
      "step 11700, training accuracy 1\n",
      "step 11800, training accuracy 0.94\n",
      "step 11900, training accuracy 1\n",
      "step 12000, training accuracy 1\n",
      "step 12100, training accuracy 1\n",
      "step 12200, training accuracy 1\n",
      "step 12300, training accuracy 1\n",
      "step 12400, training accuracy 0.98\n",
      "step 12500, training accuracy 1\n",
      "step 12600, training accuracy 0.98\n",
      "step 12700, training accuracy 1\n",
      "step 12800, training accuracy 1\n",
      "step 12900, training accuracy 0.94\n",
      "step 13000, training accuracy 1\n",
      "step 13100, training accuracy 1\n",
      "step 13200, training accuracy 0.98\n",
      "step 13300, training accuracy 1\n",
      "step 13400, training accuracy 1\n",
      "step 13500, training accuracy 0.98\n",
      "step 13600, training accuracy 1\n",
      "step 13700, training accuracy 0.98\n",
      "step 13800, training accuracy 1\n",
      "step 13900, training accuracy 1\n",
      "step 14000, training accuracy 0.96\n",
      "step 14100, training accuracy 1\n",
      "step 14200, training accuracy 1\n",
      "step 14300, training accuracy 0.98\n",
      "step 14400, training accuracy 1\n",
      "step 14500, training accuracy 1\n",
      "step 14600, training accuracy 0.98\n",
      "step 14700, training accuracy 1\n",
      "step 14800, training accuracy 0.98\n",
      "step 14900, training accuracy 1\n",
      "step 15000, training accuracy 1\n",
      "step 15100, training accuracy 0.96\n",
      "step 15200, training accuracy 1\n",
      "step 15300, training accuracy 1\n",
      "step 15400, training accuracy 1\n",
      "step 15500, training accuracy 1\n",
      "step 15600, training accuracy 1\n",
      "step 15700, training accuracy 1\n",
      "step 15800, training accuracy 1\n",
      "step 15900, training accuracy 0.98\n",
      "step 16000, training accuracy 1\n",
      "step 16100, training accuracy 1\n",
      "step 16200, training accuracy 0.96\n",
      "step 16300, training accuracy 1\n",
      "step 16400, training accuracy 1\n",
      "step 16500, training accuracy 1\n",
      "step 16600, training accuracy 1\n",
      "step 16700, training accuracy 1\n",
      "step 16800, training accuracy 1\n",
      "step 16900, training accuracy 1\n",
      "step 17000, training accuracy 0.98\n",
      "step 17100, training accuracy 1\n",
      "step 17200, training accuracy 1\n",
      "step 17300, training accuracy 0.98\n",
      "step 17400, training accuracy 1\n",
      "step 17500, training accuracy 1\n",
      "step 17600, training accuracy 1\n",
      "step 17700, training accuracy 1\n",
      "step 17800, training accuracy 1\n",
      "step 17900, training accuracy 1\n",
      "step 18000, training accuracy 1\n",
      "step 18100, training accuracy 0.98\n",
      "step 18200, training accuracy 1\n",
      "step 18300, training accuracy 1\n",
      "step 18400, training accuracy 0.98\n",
      "step 18500, training accuracy 1\n",
      "step 18600, training accuracy 1\n",
      "step 18700, training accuracy 1\n",
      "step 18800, training accuracy 1\n",
      "step 18900, training accuracy 1\n",
      "step 19000, training accuracy 1\n",
      "step 19100, training accuracy 1\n",
      "step 19200, training accuracy 0.98\n",
      "step 19300, training accuracy 1\n",
      "step 19400, training accuracy 1\n",
      "step 19500, training accuracy 0.98\n",
      "step 19600, training accuracy 1\n",
      "step 19700, training accuracy 1\n",
      "step 19800, training accuracy 0.98\n",
      "step 19900, training accuracy 1\n",
      "step 20000, training accuracy 1\n",
      "step 20100, training accuracy 1\n",
      "step 20200, training accuracy 1\n",
      "step 20300, training accuracy 0.98\n",
      "step 20400, training accuracy 1\n",
      "step 20500, training accuracy 1\n",
      "step 20600, training accuracy 0.98\n",
      "step 20700, training accuracy 1\n",
      "step 20800, training accuracy 1\n",
      "step 20900, training accuracy 1\n",
      "step 21000, training accuracy 1\n",
      "step 21100, training accuracy 1\n",
      "step 21200, training accuracy 1\n",
      "step 21300, training accuracy 1\n",
      "step 21400, training accuracy 0.98\n",
      "step 21500, training accuracy 1\n",
      "step 21600, training accuracy 1\n",
      "step 21700, training accuracy 0.98\n",
      "step 21800, training accuracy 1\n",
      "step 21900, training accuracy 1\n",
      "step 22000, training accuracy 0.98\n",
      "step 22100, training accuracy 1\n",
      "step 22200, training accuracy 1\n",
      "step 22300, training accuracy 1\n",
      "step 22400, training accuracy 1\n",
      "step 22500, training accuracy 0.98\n",
      "step 22600, training accuracy 1\n",
      "step 22700, training accuracy 1\n",
      "step 22800, training accuracy 0.98\n",
      "step 22900, training accuracy 1\n",
      "step 23000, training accuracy 1\n",
      "step 23100, training accuracy 0.98\n",
      "step 23200, training accuracy 1\n",
      "step 23300, training accuracy 1\n",
      "step 23400, training accuracy 1\n",
      "step 23500, training accuracy 1\n",
      "step 23600, training accuracy 1\n",
      "step 23700, training accuracy 1\n",
      "step 23800, training accuracy 1\n",
      "step 23900, training accuracy 0.98\n",
      "step 24000, training accuracy 1\n",
      "step 24100, training accuracy 1\n",
      "step 24200, training accuracy 0.98\n",
      "step 24300, training accuracy 1\n",
      "step 24400, training accuracy 1\n",
      "step 24500, training accuracy 1\n",
      "step 24600, training accuracy 1\n",
      "step 24700, training accuracy 1\n",
      "step 24800, training accuracy 1\n",
      "step 24900, training accuracy 1\n",
      "step 25000, training accuracy 0.98\n"
     ]
    },
    {
     "name": "stdout",
     "output_type": "stream",
     "text": [
      "step 25100, training accuracy 1\n",
      "step 25200, training accuracy 1\n",
      "step 25300, training accuracy 1\n",
      "step 25400, training accuracy 1\n",
      "step 25500, training accuracy 1\n",
      "step 25600, training accuracy 1\n",
      "step 25700, training accuracy 1\n",
      "step 25800, training accuracy 1\n",
      "step 25900, training accuracy 1\n",
      "step 26000, training accuracy 1\n",
      "step 26100, training accuracy 1\n",
      "step 26200, training accuracy 1\n",
      "step 26300, training accuracy 1\n",
      "step 26400, training accuracy 1\n",
      "step 26500, training accuracy 1\n",
      "step 26600, training accuracy 1\n",
      "step 26700, training accuracy 1\n",
      "step 26800, training accuracy 1\n",
      "step 26900, training accuracy 1\n",
      "step 27000, training accuracy 1\n",
      "step 27100, training accuracy 1\n",
      "step 27200, training accuracy 1\n",
      "step 27300, training accuracy 1\n",
      "step 27400, training accuracy 1\n",
      "step 27500, training accuracy 1\n",
      "step 27600, training accuracy 1\n",
      "step 27700, training accuracy 1\n",
      "step 27800, training accuracy 1\n",
      "step 27900, training accuracy 1\n",
      "step 28000, training accuracy 1\n",
      "step 28100, training accuracy 1\n",
      "step 28200, training accuracy 1\n",
      "step 28300, training accuracy 1\n",
      "step 28400, training accuracy 1\n",
      "step 28500, training accuracy 1\n",
      "step 28600, training accuracy 1\n",
      "step 28700, training accuracy 1\n",
      "step 28800, training accuracy 1\n",
      "step 28900, training accuracy 1\n",
      "step 29000, training accuracy 1\n",
      "step 29100, training accuracy 1\n",
      "step 29200, training accuracy 1\n",
      "step 29300, training accuracy 1\n",
      "step 29400, training accuracy 1\n",
      "step 29500, training accuracy 1\n",
      "step 29600, training accuracy 1\n",
      "step 29700, training accuracy 1\n",
      "step 29800, training accuracy 1\n",
      "step 29900, training accuracy 1\n"
     ]
    }
   ],
   "source": [
    "sess = tf.Session()\n",
    "sess.run(tf.global_variables_initializer())\n",
    "batch_size = 50\n",
    "step = X_trains.shape[0] // batch_size\n",
    "for i in range(30000):\n",
    "    s = i % step\n",
    "    batch = (X_trains[s*batch_size:(s+1)*batch_size,:], Y_trains[s*batch_size:(s+1)*batch_size,:])\n",
    "    sess.run(train_step, feed_dict={X: batch[0], Y: batch[1]})\n",
    "    if i%100 ==0:\n",
    "        train_accuracy = accuracy.eval(session=sess, feed_dict={X:batch[0], Y: batch[1]})\n",
    "        print(\"step %d, training accuracy %g\"%(i, train_accuracy)) "
   ]
  },
  {
   "cell_type": "code",
   "execution_count": 22,
   "metadata": {},
   "outputs": [
    {
     "name": "stdout",
     "output_type": "stream",
     "text": [
      "test accuracy 0.9833\n"
     ]
    }
   ],
   "source": [
    "print(\"test accuracy %g\"%accuracy.eval(session=sess, feed_dict={X:X_test, Y: Y_test}))"
   ]
  },
  {
   "cell_type": "code",
   "execution_count": 167,
   "metadata": {},
   "outputs": [
    {
     "name": "stdout",
     "output_type": "stream",
     "text": [
      "10000\n"
     ]
    }
   ],
   "source": [
    "print(len(X_test))"
   ]
  },
  {
   "cell_type": "code",
   "execution_count": 27,
   "metadata": {},
   "outputs": [],
   "source": [
    "# 获取可训练变量列表，可用于指定训练哪一部分变量(梯度下降)\n",
    "var_list = tf.get_collection(tf.GraphKeys.TRAINABLE_VARIABLES)"
   ]
  },
  {
   "cell_type": "code",
   "execution_count": 33,
   "metadata": {},
   "outputs": [
    {
     "name": "stdout",
     "output_type": "stream",
     "text": [
      "<tf.Variable 'Variable_8:0' shape=(84, 10) dtype=float32_ref>\n"
     ]
    }
   ],
   "source": [
    "print(var_list[8])"
   ]
  },
  {
   "cell_type": "code",
   "execution_count": 34,
   "metadata": {},
   "outputs": [],
   "source": [
    "saver = tf.train.Saver()"
   ]
  },
  {
   "cell_type": "code",
   "execution_count": 43,
   "metadata": {},
   "outputs": [
    {
     "data": {
      "text/plain": [
       "'./LeNet-pretrained-on-mnist/LeNet-5-on-mnist-30000'"
      ]
     },
     "execution_count": 43,
     "metadata": {},
     "output_type": "execute_result"
    }
   ],
   "source": [
    "# 保存变量\n",
    "save_file = './LeNet-pretrained-on-mnist/LeNet-5-on-mnist'\n",
    "saver.save(sess, save_file, global_step=30000)"
   ]
  },
  {
   "cell_type": "code",
   "execution_count": 44,
   "metadata": {},
   "outputs": [],
   "source": [
    "# 保存图\n",
    "writer = tf.summary.FileWriter('./LeNet-pretrained-on-mnist', sess.graph)"
   ]
  },
  {
   "cell_type": "code",
   "execution_count": null,
   "metadata": {},
   "outputs": [],
   "source": []
  }
 ],
 "metadata": {
  "kernelspec": {
   "display_name": "Python 3",
   "language": "python",
   "name": "python3"
  },
  "language_info": {
   "codemirror_mode": {
    "name": "ipython",
    "version": 3
   },
   "file_extension": ".py",
   "mimetype": "text/x-python",
   "name": "python",
   "nbconvert_exporter": "python",
   "pygments_lexer": "ipython3",
   "version": "3.5.4"
  }
 },
 "nbformat": 4,
 "nbformat_minor": 2
}
